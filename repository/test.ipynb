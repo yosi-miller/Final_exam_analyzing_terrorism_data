{
 "cells": [
  {
   "cell_type": "code",
   "id": "initial_id",
   "metadata": {
    "collapsed": true,
    "ExecuteTime": {
     "end_time": "2024-12-22T12:14:56.556207Z",
     "start_time": "2024-12-22T12:14:56.549142Z"
    }
   },
   "source": [
    "import pandas as pd\n",
    "from database.connect import get_db\n",
    "from repository.info_attack_repository import get_information_attack_data\n",
    "\n",
    "\n",
    "client, db = get_db()\n",
    "collection = db['terrorism_data']"
   ],
   "outputs": [
    {
     "name": "stdout",
     "output_type": "stream",
     "text": [
      "localhost 27017\n"
     ]
    }
   ],
   "execution_count": 8
  },
  {
   "metadata": {
    "ExecuteTime": {
     "end_time": "2024-12-22T12:16:22.574217Z",
     "start_time": "2024-12-22T12:16:22.520256Z"
    }
   },
   "cell_type": "code",
   "source": [
    "\n",
    "dataframe = get_information_attack_data()\n",
    "columns = ['kill', 'injured', 'location.region', 'location.latitude', 'location.longitude']\n",
    "dataframe = dataframe[columns]"
   ],
   "id": "c393767ab3d83d43",
   "outputs": [
    {
     "name": "stdout",
     "output_type": "stream",
     "text": [
      "localhost 27017\n"
     ]
    }
   ],
   "execution_count": 13
  },
  {
   "metadata": {},
   "cell_type": "markdown",
   "source": "",
   "id": "c1e5c496c5d6acd9"
  },
  {
   "metadata": {
    "ExecuteTime": {
     "end_time": "2024-12-22T12:23:45.343696Z",
     "start_time": "2024-12-22T12:23:45.320398Z"
    }
   },
   "cell_type": "code",
   "source": [
    "dataframe['impact'] = (dataframe['kill'] * 2) + dataframe['injured']\n",
    "dataframe.groupby('location.region')[['impact', 'location.latitude', 'location.longitude']].mean().reset_index()"
   ],
   "id": "a489801c2edfd595",
   "outputs": [
    {
     "data": {
      "text/plain": [
       "                location.region     impact  location.latitude  \\\n",
       "0         Australasia & Oceania   0.000000         -37.813187   \n",
       "1   Central America & Caribbean   0.500000          15.818972   \n",
       "2                     East Asia   0.000000          33.580412   \n",
       "3                Eastern Europe   0.000000          52.501530   \n",
       "4    Middle East & North Africa   0.242857          37.383084   \n",
       "5                 North America   0.428152          37.771726   \n",
       "6                 South America   0.441860         -29.292611   \n",
       "7                    South Asia  28.000000          24.891115   \n",
       "8                Southeast Asia   6.812500          14.220182   \n",
       "9            Sub-Saharan Africa   0.800000          11.583513   \n",
       "10               Western Europe   2.110092          49.170872   \n",
       "\n",
       "    location.longitude  \n",
       "0           144.962980  \n",
       "1           -79.169337  \n",
       "2           130.396361  \n",
       "3            13.401851  \n",
       "4            36.082641  \n",
       "5           -95.440497  \n",
       "6           -57.748370  \n",
       "7            67.143311  \n",
       "8           118.662527  \n",
       "9            37.397019  \n",
       "10            2.880787  "
      ],
      "text/html": [
       "<div>\n",
       "<style scoped>\n",
       "    .dataframe tbody tr th:only-of-type {\n",
       "        vertical-align: middle;\n",
       "    }\n",
       "\n",
       "    .dataframe tbody tr th {\n",
       "        vertical-align: top;\n",
       "    }\n",
       "\n",
       "    .dataframe thead th {\n",
       "        text-align: right;\n",
       "    }\n",
       "</style>\n",
       "<table border=\"1\" class=\"dataframe\">\n",
       "  <thead>\n",
       "    <tr style=\"text-align: right;\">\n",
       "      <th></th>\n",
       "      <th>location.region</th>\n",
       "      <th>impact</th>\n",
       "      <th>location.latitude</th>\n",
       "      <th>location.longitude</th>\n",
       "    </tr>\n",
       "  </thead>\n",
       "  <tbody>\n",
       "    <tr>\n",
       "      <th>0</th>\n",
       "      <td>Australasia &amp; Oceania</td>\n",
       "      <td>0.000000</td>\n",
       "      <td>-37.813187</td>\n",
       "      <td>144.962980</td>\n",
       "    </tr>\n",
       "    <tr>\n",
       "      <th>1</th>\n",
       "      <td>Central America &amp; Caribbean</td>\n",
       "      <td>0.500000</td>\n",
       "      <td>15.818972</td>\n",
       "      <td>-79.169337</td>\n",
       "    </tr>\n",
       "    <tr>\n",
       "      <th>2</th>\n",
       "      <td>East Asia</td>\n",
       "      <td>0.000000</td>\n",
       "      <td>33.580412</td>\n",
       "      <td>130.396361</td>\n",
       "    </tr>\n",
       "    <tr>\n",
       "      <th>3</th>\n",
       "      <td>Eastern Europe</td>\n",
       "      <td>0.000000</td>\n",
       "      <td>52.501530</td>\n",
       "      <td>13.401851</td>\n",
       "    </tr>\n",
       "    <tr>\n",
       "      <th>4</th>\n",
       "      <td>Middle East &amp; North Africa</td>\n",
       "      <td>0.242857</td>\n",
       "      <td>37.383084</td>\n",
       "      <td>36.082641</td>\n",
       "    </tr>\n",
       "    <tr>\n",
       "      <th>5</th>\n",
       "      <td>North America</td>\n",
       "      <td>0.428152</td>\n",
       "      <td>37.771726</td>\n",
       "      <td>-95.440497</td>\n",
       "    </tr>\n",
       "    <tr>\n",
       "      <th>6</th>\n",
       "      <td>South America</td>\n",
       "      <td>0.441860</td>\n",
       "      <td>-29.292611</td>\n",
       "      <td>-57.748370</td>\n",
       "    </tr>\n",
       "    <tr>\n",
       "      <th>7</th>\n",
       "      <td>South Asia</td>\n",
       "      <td>28.000000</td>\n",
       "      <td>24.891115</td>\n",
       "      <td>67.143311</td>\n",
       "    </tr>\n",
       "    <tr>\n",
       "      <th>8</th>\n",
       "      <td>Southeast Asia</td>\n",
       "      <td>6.812500</td>\n",
       "      <td>14.220182</td>\n",
       "      <td>118.662527</td>\n",
       "    </tr>\n",
       "    <tr>\n",
       "      <th>9</th>\n",
       "      <td>Sub-Saharan Africa</td>\n",
       "      <td>0.800000</td>\n",
       "      <td>11.583513</td>\n",
       "      <td>37.397019</td>\n",
       "    </tr>\n",
       "    <tr>\n",
       "      <th>10</th>\n",
       "      <td>Western Europe</td>\n",
       "      <td>2.110092</td>\n",
       "      <td>49.170872</td>\n",
       "      <td>2.880787</td>\n",
       "    </tr>\n",
       "  </tbody>\n",
       "</table>\n",
       "</div>"
      ]
     },
     "execution_count": 20,
     "metadata": {},
     "output_type": "execute_result"
    }
   ],
   "execution_count": 20
  }
 ],
 "metadata": {
  "kernelspec": {
   "display_name": "Python 3",
   "language": "python",
   "name": "python3"
  },
  "language_info": {
   "codemirror_mode": {
    "name": "ipython",
    "version": 2
   },
   "file_extension": ".py",
   "mimetype": "text/x-python",
   "name": "python",
   "nbconvert_exporter": "python",
   "pygments_lexer": "ipython2",
   "version": "2.7.6"
  }
 },
 "nbformat": 4,
 "nbformat_minor": 5
}
